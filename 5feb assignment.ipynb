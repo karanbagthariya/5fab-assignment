{
 "cells": [
  {
   "cell_type": "markdown",
   "id": "3d87a460-dbd5-4428-b7c3-7e8a933c0b75",
   "metadata": {},
   "source": [
    "Q1. Explain Class and Object with respect to Object-Oriented Programming. Give a suitable example. \n"
   ]
  },
  {
   "cell_type": "markdown",
   "id": "34be3af9-e4ad-469e-8d1f-d8ad7e7cc5ce",
   "metadata": {},
   "source": [
    "ans.1A class is considered as a blueprint of objects. We can think of the class as a sketch (prototype) of a house. It contains all the details about the floors, doors, windows, etc. Based on these descriptions we build the house. House is the object.\n",
    "\n",
    "Since many houses can be made from the same description, we can create many objects from a class"
   ]
  },
  {
   "cell_type": "markdown",
   "id": "0ffdde02-2d3f-4942-bf6c-eab7e1471610",
   "metadata": {},
   "source": [
    "Q2. Name the four pillars of OOPs."
   ]
  },
  {
   "cell_type": "markdown",
   "id": "b022d3a7-6eed-4fb9-88b5-525ee00a39be",
   "metadata": {},
   "source": [
    "The Four Pillars of Object-Oriented Programming\n",
    "Abstraction.\n",
    "Encapsulation.\n",
    "Inheritance.\n",
    "Polymorphism."
   ]
  },
  {
   "cell_type": "markdown",
   "id": "9b06ff22-160a-4146-8579-5fad720b7b18",
   "metadata": {},
   "source": [
    "Q3. Explain why the __init__() function is used. Give a suitable example."
   ]
  },
  {
   "cell_type": "markdown",
   "id": "a8f497ce-4404-4c50-aced-85b9a2c1e067",
   "metadata": {},
   "source": [
    "The __init__ method is the Python equivalent of the C++ constructor in an object-oriented approach. The __init__ function is called every time an object is created from a class. The __init__ method lets the class initialize the object's attributes and serves no other purpose. It is only used within classes"
   ]
  },
  {
   "cell_type": "code",
   "execution_count": 2,
   "id": "f29df8b2-2142-402e-827f-9009885e61cb",
   "metadata": {},
   "outputs": [
    {
     "name": "stdout",
     "output_type": "stream",
     "text": [
      "Hello, my name is Nikhil\n"
     ]
    }
   ],
   "source": [
    "class Person:\n",
    "    def __init__(self, name):\n",
    "        self.name = name \n",
    "    def say_hi(self):\n",
    "        print('Hello, my name is', self.name)\n",
    "p = Person('Nikhil')\n",
    "p.say_hi()"
   ]
  },
  {
   "cell_type": "markdown",
   "id": "94d148ec-37b1-48bf-9726-21ca6a9e780c",
   "metadata": {},
   "source": [
    "Q4. Why self is used in OOPs?"
   ]
  },
  {
   "cell_type": "markdown",
   "id": "570c15b6-1397-40b8-8076-471efb5863b6",
   "metadata": {},
   "source": [
    "The self variable is used to represent the instance of the class which is often used in object-oriented programming. It works as a reference to the object. Python uses the self parameter to refer to instance attributes and methods of the class.\n"
   ]
  },
  {
   "cell_type": "markdown",
   "id": "a743bd53-bd71-4a5f-861d-04bc1d865312",
   "metadata": {},
   "source": [
    "Q5. What is inheritance? \n"
   ]
  },
  {
   "cell_type": "markdown",
   "id": "29f7f41f-8e90-4e10-bb5b-2abfa9620802",
   "metadata": {},
   "source": [
    "There are five types of inheritances:\n",
    "\n",
    "Single Inheritance\n",
    "Multiple Inheritance\n",
    "Multilevel Inheritance\n",
    "Hierarchical Inheritance\n",
    "Hybrid Inheritance"
   ]
  },
  {
   "cell_type": "code",
   "execution_count": null,
   "id": "bafbd443-a431-4dac-8c1b-9691d38b83c7",
   "metadata": {},
   "outputs": [],
   "source": []
  }
 ],
 "metadata": {
  "kernelspec": {
   "display_name": "Python 3 (ipykernel)",
   "language": "python",
   "name": "python3"
  },
  "language_info": {
   "codemirror_mode": {
    "name": "ipython",
    "version": 3
   },
   "file_extension": ".py",
   "mimetype": "text/x-python",
   "name": "python",
   "nbconvert_exporter": "python",
   "pygments_lexer": "ipython3",
   "version": "3.10.8"
  }
 },
 "nbformat": 4,
 "nbformat_minor": 5
}
